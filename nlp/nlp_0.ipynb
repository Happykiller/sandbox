{
 "cells": [
  {
   "cell_type": "code",
   "execution_count": 2,
   "id": "32f8c876-f6e6-416f-9c37-956e8da5d7d9",
   "metadata": {
    "tags": []
   },
   "outputs": [
    {
     "data": {
      "text/html": [
       "<div>\n",
       "<style scoped>\n",
       "    .dataframe tbody tr th:only-of-type {\n",
       "        vertical-align: middle;\n",
       "    }\n",
       "\n",
       "    .dataframe tbody tr th {\n",
       "        vertical-align: top;\n",
       "    }\n",
       "\n",
       "    .dataframe thead th {\n",
       "        text-align: right;\n",
       "    }\n",
       "</style>\n",
       "<table border=\"1\" class=\"dataframe\">\n",
       "  <thead>\n",
       "    <tr style=\"text-align: right;\">\n",
       "      <th></th>\n",
       "      <th>Unnamed: 0</th>\n",
       "      <th>review_id</th>\n",
       "      <th>product_id</th>\n",
       "      <th>reviewer_id</th>\n",
       "      <th>stars</th>\n",
       "      <th>review_body</th>\n",
       "      <th>review_title</th>\n",
       "      <th>language</th>\n",
       "      <th>product_category</th>\n",
       "    </tr>\n",
       "  </thead>\n",
       "  <tbody>\n",
       "    <tr>\n",
       "      <th>0</th>\n",
       "      <td>0</td>\n",
       "      <td>de_0203609</td>\n",
       "      <td>product_de_0865382</td>\n",
       "      <td>reviewer_de_0267719</td>\n",
       "      <td>1</td>\n",
       "      <td>Armband ist leider nach 1 Jahr kaputt gegangen</td>\n",
       "      <td>Leider nach 1 Jahr kaputt</td>\n",
       "      <td>de</td>\n",
       "      <td>sports</td>\n",
       "    </tr>\n",
       "    <tr>\n",
       "      <th>1</th>\n",
       "      <td>1</td>\n",
       "      <td>de_0559494</td>\n",
       "      <td>product_de_0678997</td>\n",
       "      <td>reviewer_de_0783625</td>\n",
       "      <td>1</td>\n",
       "      <td>In der Lieferung war nur Ein Akku!</td>\n",
       "      <td>EINS statt ZWEI Akkus!!!</td>\n",
       "      <td>de</td>\n",
       "      <td>home_improvement</td>\n",
       "    </tr>\n",
       "    <tr>\n",
       "      <th>2</th>\n",
       "      <td>2</td>\n",
       "      <td>de_0238777</td>\n",
       "      <td>product_de_0372235</td>\n",
       "      <td>reviewer_de_0911426</td>\n",
       "      <td>1</td>\n",
       "      <td>Ein Stern, weil gar keine geht nicht. Es hande...</td>\n",
       "      <td>Achtung Abzocke</td>\n",
       "      <td>de</td>\n",
       "      <td>drugstore</td>\n",
       "    </tr>\n",
       "    <tr>\n",
       "      <th>3</th>\n",
       "      <td>3</td>\n",
       "      <td>de_0477884</td>\n",
       "      <td>product_de_0719501</td>\n",
       "      <td>reviewer_de_0836478</td>\n",
       "      <td>1</td>\n",
       "      <td>Dachte, das wären einfach etwas festere Binden...</td>\n",
       "      <td>Zu viel des Guten</td>\n",
       "      <td>de</td>\n",
       "      <td>drugstore</td>\n",
       "    </tr>\n",
       "    <tr>\n",
       "      <th>4</th>\n",
       "      <td>4</td>\n",
       "      <td>de_0270868</td>\n",
       "      <td>product_de_0022613</td>\n",
       "      <td>reviewer_de_0736276</td>\n",
       "      <td>1</td>\n",
       "      <td>Meine Kinder haben kaum damit gespielt und nac...</td>\n",
       "      <td>Qualität sehr schlecht</td>\n",
       "      <td>de</td>\n",
       "      <td>toy</td>\n",
       "    </tr>\n",
       "  </tbody>\n",
       "</table>\n",
       "</div>"
      ],
      "text/plain": [
       "   Unnamed: 0   review_id          product_id          reviewer_id  stars  \\\n",
       "0           0  de_0203609  product_de_0865382  reviewer_de_0267719      1   \n",
       "1           1  de_0559494  product_de_0678997  reviewer_de_0783625      1   \n",
       "2           2  de_0238777  product_de_0372235  reviewer_de_0911426      1   \n",
       "3           3  de_0477884  product_de_0719501  reviewer_de_0836478      1   \n",
       "4           4  de_0270868  product_de_0022613  reviewer_de_0736276      1   \n",
       "\n",
       "                                         review_body  \\\n",
       "0     Armband ist leider nach 1 Jahr kaputt gegangen   \n",
       "1                 In der Lieferung war nur Ein Akku!   \n",
       "2  Ein Stern, weil gar keine geht nicht. Es hande...   \n",
       "3  Dachte, das wären einfach etwas festere Binden...   \n",
       "4  Meine Kinder haben kaum damit gespielt und nac...   \n",
       "\n",
       "                review_title language  product_category  \n",
       "0  Leider nach 1 Jahr kaputt       de            sports  \n",
       "1   EINS statt ZWEI Akkus!!!       de  home_improvement  \n",
       "2            Achtung Abzocke       de         drugstore  \n",
       "3          Zu viel des Guten       de         drugstore  \n",
       "4     Qualität sehr schlecht       de               toy  "
      ]
     },
     "execution_count": 2,
     "metadata": {},
     "output_type": "execute_result"
    }
   ],
   "source": [
    "#https://www.kaggle.com/datasets/mexwell/amazon-reviews-multi\n",
    "\n",
    "import pandas as pd\n",
    "\n",
    "df = pd.read_csv('train.csv')\n",
    "\n",
    "df.head()"
   ]
  },
  {
   "cell_type": "code",
   "execution_count": 3,
   "id": "77fb6f02-dc04-4d1e-a07a-41f25600eaeb",
   "metadata": {
    "tags": []
   },
   "outputs": [
    {
     "name": "stdout",
     "output_type": "stream",
     "text": [
      "Acheté fin juillet, mis en service il y a environ 4 semaines. La première ampoule est morte il y a environ 2 semaines, la deuxième ampoule est morte ce week-end, ce qui lui donne une durée de vie d'environ un mois. Ceux-ci sont vendus par \"\"qui que ce soit\"\", il change constamment, les noms ne cessent de changer, mais ils sont tous identiques, je reçois en général une utilisation estivale complète sur l'un d'entre eux et les présente, il ne reste plus que 2 mois, cela ne fonctionne pas pour moi plus, va devoir intensifier et acheter un vrai. La valeur n'est pas là. Quand ils fonctionnent, ils fonctionnent bien, mais si les ampoules sont cassées, ouais et je ne parierai pas que les tripes vont survivre grâce à une autre paire d'ampoules .. dommage, ils ont mis au point cette chose au-delà de l'idée d'en acheter une autre .. BTW, environnement de service pour cela était mon bureau climatisé, juste pour tuer les mouches qui le rendent dans le bureau .. c'est aussi sur une distribution de l'alimentation à tension contrôlée pour le matériel informatique afin qu'il ne soit pas exposé aux fluctuations de tension, aux conditions météorologiques, ou même beaucoup d'une charge ... ordure!\n"
     ]
    }
   ],
   "source": [
    "df_fr = df[df.language == 'fr']\n",
    "review  = None\n",
    "for _, rev in df_fr['review_body'].items():\n",
    "    if len(rev) > 1000:\n",
    "        review = rev\n",
    "        break\n",
    "        \n",
    "print(review)"
   ]
  },
  {
   "cell_type": "code",
   "execution_count": 4,
   "id": "04ff4f77-46de-4f58-821e-10b9dc735aa2",
   "metadata": {
    "tags": []
   },
   "outputs": [
    {
     "name": "stderr",
     "output_type": "stream",
     "text": [
      "[nltk_data] Downloading package punkt to\n",
      "[nltk_data]     C:\\Users\\fabri\\AppData\\Roaming\\nltk_data...\n",
      "[nltk_data]   Package punkt is already up-to-date!\n"
     ]
    },
    {
     "data": {
      "text/plain": [
       "True"
      ]
     },
     "execution_count": 4,
     "metadata": {},
     "output_type": "execute_result"
    }
   ],
   "source": [
    "import nltk\n",
    "nltk.download('punkt')"
   ]
  },
  {
   "cell_type": "code",
   "execution_count": 5,
   "id": "28c4b790-c735-41ee-b187-e9ef17a54030",
   "metadata": {
    "tags": []
   },
   "outputs": [
    {
     "name": "stdout",
     "output_type": "stream",
     "text": [
      "['Acheté', 'fin', 'juillet', ',', 'mis', 'en', 'service', 'il', 'y', 'a', 'environ', '4', 'semaines', '.', 'La', 'première', 'ampoule', 'est', 'morte', 'il', 'y', 'a', 'environ', '2', 'semaines', ',', 'la', 'deuxième', 'ampoule', 'est', 'morte', 'ce', 'week-end', ',', 'ce', 'qui', 'lui', 'donne', 'une', 'durée', 'de', 'vie', \"d'environ\", 'un', 'mois', '.', 'Ceux-ci', 'sont', 'vendus', 'par', '``', \"''\", 'qui', 'que', 'ce', 'soit', \"''\", \"''\", ',', 'il', 'change', 'constamment', ',', 'les', 'noms', 'ne', 'cessent', 'de', 'changer', ',', 'mais', 'ils', 'sont', 'tous', 'identiques', ',', 'je', 'reçois', 'en', 'général', 'une', 'utilisation', 'estivale', 'complète', 'sur', \"l'un\", \"d'entre\", 'eux', 'et', 'les', 'présente', ',', 'il', 'ne', 'reste', 'plus', 'que', '2', 'mois', ',', 'cela', 'ne', 'fonctionne', 'pas', 'pour', 'moi', 'plus', ',', 'va', 'devoir', 'intensifier', 'et', 'acheter', 'un', 'vrai', '.', 'La', 'valeur', \"n'est\", 'pas', 'là', '.', 'Quand', 'ils', 'fonctionnent', ',', 'ils', 'fonctionnent', 'bien', ',', 'mais', 'si', 'les', 'ampoules', 'sont', 'cassées', ',', 'ouais', 'et', 'je', 'ne', 'parierai', 'pas', 'que', 'les', 'tripes', 'vont', 'survivre', 'grâce', 'à', 'une', 'autre', 'paire', \"d'ampoules\", '..', 'dommage', ',', 'ils', 'ont', 'mis', 'au', 'point', 'cette', 'chose', 'au-delà', 'de', \"l'idée\", \"d'en\", 'acheter', 'une', 'autre', '..', 'BTW', ',', 'environnement', 'de', 'service', 'pour', 'cela', 'était', 'mon', 'bureau', 'climatisé', ',', 'juste', 'pour', 'tuer', 'les', 'mouches', 'qui', 'le', 'rendent', 'dans', 'le', 'bureau', '..', \"c'est\", 'aussi', 'sur', 'une', 'distribution', 'de', \"l'alimentation\", 'à', 'tension', 'contrôlée', 'pour', 'le', 'matériel', 'informatique', 'afin', \"qu'il\", 'ne', 'soit', 'pas', 'exposé', 'aux', 'fluctuations', 'de', 'tension', ',', 'aux', 'conditions', 'météorologiques', ',', 'ou', 'même', 'beaucoup', \"d'une\", 'charge', '...', 'ordure', '!']\n",
      "233\n"
     ]
    }
   ],
   "source": [
    "from nltk.tokenize import (\n",
    "    TreebankWordTokenizer,\n",
    "    ToktokTokenizer,\n",
    "    TweetTokenizer,\n",
    "    WhitespaceTokenizer,\n",
    "    word_tokenize,\n",
    "    wordpunct_tokenize,\n",
    "    sent_tokenize\n",
    ")\n",
    "\n",
    "tokens = word_tokenize(review)\n",
    "print(tokens)\n",
    "print(len(tokens))"
   ]
  },
  {
   "cell_type": "code",
   "execution_count": 36,
   "id": "a5aa3349-0548-4695-a06e-ea46f46b3a5f",
   "metadata": {
    "tags": []
   },
   "outputs": [
    {
     "name": "stdout",
     "output_type": "stream",
     "text": [
      "['Acheté', 'fin', 'juillet', ',', 'mis', 'en', 'service', 'il', 'y', 'a', 'environ', '4', 'semaines', '.', 'La', 'première', 'ampoule', 'est', 'morte', 'il', 'y', 'a', 'environ', '2', 'semaines', ',', 'la', 'deuxième', 'ampoule', 'est', 'morte', 'ce', 'week', '-', 'end', ',', 'ce', 'qui', 'lui', 'donne', 'une', 'durée', 'de', 'vie', 'd', \"'\", 'environ', 'un', 'mois', '.', 'Ceux', '-', 'ci', 'sont', 'vendus', 'par', '\"\"', 'qui', 'que', 'ce', 'soit', '\"\",', 'il', 'change', 'constamment', ',', 'les', 'noms', 'ne', 'cessent', 'de', 'changer', ',', 'mais', 'ils', 'sont', 'tous', 'identiques', ',', 'je', 'reçois', 'en', 'général', 'une', 'utilisation', 'estivale', 'complète', 'sur', 'l', \"'\", 'un', 'd', \"'\", 'entre', 'eux', 'et', 'les', 'présente', ',', 'il', 'ne', 'reste', 'plus', 'que', '2', 'mois', ',', 'cela', 'ne', 'fonctionne', 'pas', 'pour', 'moi', 'plus', ',', 'va', 'devoir', 'intensifier', 'et', 'acheter', 'un', 'vrai', '.', 'La', 'valeur', 'n', \"'\", 'est', 'pas', 'là', '.', 'Quand', 'ils', 'fonctionnent', ',', 'ils', 'fonctionnent', 'bien', ',', 'mais', 'si', 'les', 'ampoules', 'sont', 'cassées', ',', 'ouais', 'et', 'je', 'ne', 'parierai', 'pas', 'que', 'les', 'tripes', 'vont', 'survivre', 'grâce', 'à', 'une', 'autre', 'paire', 'd', \"'\", 'ampoules', '..', 'dommage', ',', 'ils', 'ont', 'mis', 'au', 'point', 'cette', 'chose', 'au', '-', 'delà', 'de', 'l', \"'\", 'idée', 'd', \"'\", 'en', 'acheter', 'une', 'autre', '..', 'BTW', ',', 'environnement', 'de', 'service', 'pour', 'cela', 'était', 'mon', 'bureau', 'climatisé', ',', 'juste', 'pour', 'tuer', 'les', 'mouches', 'qui', 'le', 'rendent', 'dans', 'le', 'bureau', '..', 'c', \"'\", 'est', 'aussi', 'sur', 'une', 'distribution', 'de', 'l', \"'\", 'alimentation', 'à', 'tension', 'contrôlée', 'pour', 'le', 'matériel', 'informatique', 'afin', 'qu', \"'\", 'il', 'ne', 'soit', 'pas', 'exposé', 'aux', 'fluctuations', 'de', 'tension', ',', 'aux', 'conditions', 'météorologiques', ',', 'ou', 'même', 'beaucoup', 'd', \"'\", 'une', 'charge', '...', 'ordure', '!']\n",
      "258\n"
     ]
    }
   ],
   "source": [
    "tokens = wordpunct_tokenize(review)\n",
    "print(tokens)\n",
    "print(len(tokens))"
   ]
  },
  {
   "cell_type": "code",
   "execution_count": 38,
   "id": "a5784740-81a4-431b-ad8e-bd71c3b8e762",
   "metadata": {
    "tags": []
   },
   "outputs": [
    {
     "name": "stdout",
     "output_type": "stream",
     "text": [
      "['Acheté fin juillet, mis en service il y a environ 4 semaines.', \"La première ampoule est morte il y a environ 2 semaines, la deuxième ampoule est morte ce week-end, ce qui lui donne une durée de vie d'environ un mois.\", 'Ceux-ci sont vendus par \"\"qui que ce soit\"\", il change constamment, les noms ne cessent de changer, mais ils sont tous identiques, je reçois en général une utilisation estivale complète sur l\\'un d\\'entre eux et les présente, il ne reste plus que 2 mois, cela ne fonctionne pas pour moi plus, va devoir intensifier et acheter un vrai.', \"La valeur n'est pas là.\", \"Quand ils fonctionnent, ils fonctionnent bien, mais si les ampoules sont cassées, ouais et je ne parierai pas que les tripes vont survivre grâce à une autre paire d'ampoules .. dommage, ils ont mis au point cette chose au-delà de l'idée d'en acheter une autre .. BTW, environnement de service pour cela était mon bureau climatisé, juste pour tuer les mouches qui le rendent dans le bureau .. c'est aussi sur une distribution de l'alimentation à tension contrôlée pour le matériel informatique afin qu'il ne soit pas exposé aux fluctuations de tension, aux conditions météorologiques, ou même beaucoup d'une charge ... ordure!\"]\n",
      "5\n"
     ]
    }
   ],
   "source": [
    "tokens = sent_tokenize(review)\n",
    "print(tokens)\n",
    "print(len(tokens))"
   ]
  },
  {
   "cell_type": "code",
   "execution_count": 40,
   "id": "048a85b0-39fc-4901-80ce-3163570b992b",
   "metadata": {
    "tags": []
   },
   "outputs": [
    {
     "name": "stdout",
     "output_type": "stream",
     "text": [
      "['Acheté', 'fin', 'juillet', ',', 'mis', 'en', 'service', 'il', 'y', 'a', 'environ', '4', 'semaines.', 'La', 'première', 'ampoule', 'est', 'morte', 'il', 'y', 'a', 'environ', '2', 'semaines', ',', 'la', 'deuxième', 'ampoule', 'est', 'morte', 'ce', 'week-end', ',', 'ce', 'qui', 'lui', 'donne', 'une', 'durée', 'de', 'vie', \"d'environ\", 'un', 'mois.', 'Ceux-ci', 'sont', 'vendus', 'par', '``', \"''\", 'qui', 'que', 'ce', 'soit', \"''\", \"''\", ',', 'il', 'change', 'constamment', ',', 'les', 'noms', 'ne', 'cessent', 'de', 'changer', ',', 'mais', 'ils', 'sont', 'tous', 'identiques', ',', 'je', 'reçois', 'en', 'général', 'une', 'utilisation', 'estivale', 'complète', 'sur', \"l'un\", \"d'entre\", 'eux', 'et', 'les', 'présente', ',', 'il', 'ne', 'reste', 'plus', 'que', '2', 'mois', ',', 'cela', 'ne', 'fonctionne', 'pas', 'pour', 'moi', 'plus', ',', 'va', 'devoir', 'intensifier', 'et', 'acheter', 'un', 'vrai.', 'La', 'valeur', \"n'est\", 'pas', 'là.', 'Quand', 'ils', 'fonctionnent', ',', 'ils', 'fonctionnent', 'bien', ',', 'mais', 'si', 'les', 'ampoules', 'sont', 'cassées', ',', 'ouais', 'et', 'je', 'ne', 'parierai', 'pas', 'que', 'les', 'tripes', 'vont', 'survivre', 'grâce', 'à', 'une', 'autre', 'paire', \"d'ampoules\", '..', 'dommage', ',', 'ils', 'ont', 'mis', 'au', 'point', 'cette', 'chose', 'au-delà', 'de', \"l'idée\", \"d'en\", 'acheter', 'une', 'autre', '..', 'BTW', ',', 'environnement', 'de', 'service', 'pour', 'cela', 'était', 'mon', 'bureau', 'climatisé', ',', 'juste', 'pour', 'tuer', 'les', 'mouches', 'qui', 'le', 'rendent', 'dans', 'le', 'bureau', '..', \"c'est\", 'aussi', 'sur', 'une', 'distribution', 'de', \"l'alimentation\", 'à', 'tension', 'contrôlée', 'pour', 'le', 'matériel', 'informatique', 'afin', \"qu'il\", 'ne', 'soit', 'pas', 'exposé', 'aux', 'fluctuations', 'de', 'tension', ',', 'aux', 'conditions', 'météorologiques', ',', 'ou', 'même', 'beaucoup', \"d'une\", 'charge', '...', 'ordure', '!']\n",
      "229\n"
     ]
    }
   ],
   "source": [
    "tokenizer = TreebankWordTokenizer()\n",
    "tokens= tokenizer.tokenize(review)\n",
    "print(tokens)\n",
    "print(len(tokens))"
   ]
  },
  {
   "cell_type": "code",
   "execution_count": 42,
   "id": "ec96e68e-1b05-4ca2-92ed-d0733c8fd97a",
   "metadata": {
    "tags": []
   },
   "outputs": [
    {
     "name": "stdout",
     "output_type": "stream",
     "text": [
      "['Acheté', 'fin', 'juillet', ',', 'mis', 'en', 'service', 'il', 'y', 'a', 'environ', '4', 'semaines.', 'La', 'première', 'ampoule', 'est', 'morte', 'il', 'y', 'a', 'environ', '2', 'semaines', ',', 'la', 'deuxième', 'ampoule', 'est', 'morte', 'ce', 'week-end', ',', 'ce', 'qui', 'lui', 'donne', 'une', 'durée', 'de', 'vie', 'd', \"'\", 'environ', 'un', 'mois.', 'Ceux-ci', 'sont', 'vendus', 'par', '\"', '\"', 'qui', 'que', 'ce', 'soit', '\"', '\"', ',', 'il', 'change', 'constamment', ',', 'les', 'noms', 'ne', 'cessent', 'de', 'changer', ',', 'mais', 'ils', 'sont', 'tous', 'identiques', ',', 'je', 'reçois', 'en', 'général', 'une', 'utilisation', 'estivale', 'complète', 'sur', 'l', \"'\", 'un', 'd', \"'\", 'entre', 'eux', 'et', 'les', 'présente', ',', 'il', 'ne', 'reste', 'plus', 'que', '2', 'mois', ',', 'cela', 'ne', 'fonctionne', 'pas', 'pour', 'moi', 'plus', ',', 'va', 'devoir', 'intensifier', 'et', 'acheter', 'un', 'vrai.', 'La', 'valeur', 'n', \"'\", 'est', 'pas', 'là.', 'Quand', 'ils', 'fonctionnent', ',', 'ils', 'fonctionnent', 'bien', ',', 'mais', 'si', 'les', 'ampoules', 'sont', 'cassées', ',', 'ouais', 'et', 'je', 'ne', 'parierai', 'pas', 'que', 'les', 'tripes', 'vont', 'survivre', 'grâce', 'à', 'une', 'autre', 'paire', 'd', \"'\", 'ampoules', '..', 'dommage', ',', 'ils', 'ont', 'mis', 'au', 'point', 'cette', 'chose', 'au-delà', 'de', 'l', \"'\", 'idée', 'd', \"'\", 'en', 'acheter', 'une', 'autre', '..', 'BTW', ',', 'environnement', 'de', 'service', 'pour', 'cela', 'était', 'mon', 'bureau', 'climatisé', ',', 'juste', 'pour', 'tuer', 'les', 'mouches', 'qui', 'le', 'rendent', 'dans', 'le', 'bureau', '..', 'c', \"'\", 'est', 'aussi', 'sur', 'une', 'distribution', 'de', 'l', \"'\", 'alimentation', 'à', 'tension', 'contrôlée', 'pour', 'le', 'matériel', 'informatique', 'afin', 'qu', \"'\", 'il', 'ne', 'soit', 'pas', 'exposé', 'aux', 'fluctuations', 'de', 'tension', ',', 'aux', 'conditions', 'météorologiques', ',', 'ou', 'même', 'beaucoup', 'd', \"'\", 'une', 'charge', '...', 'ordure', '!']\n",
      "251\n"
     ]
    }
   ],
   "source": [
    "tokenizer = ToktokTokenizer()\n",
    "tokens= tokenizer.tokenize(review)\n",
    "print(tokens)\n",
    "print(len(tokens))"
   ]
  },
  {
   "cell_type": "code",
   "execution_count": 44,
   "id": "45292181-b7f9-4f7a-b406-53329603d45a",
   "metadata": {
    "tags": []
   },
   "outputs": [
    {
     "name": "stdout",
     "output_type": "stream",
     "text": [
      "['Acheté', 'fin', 'juillet', ',', 'mis', 'en', 'service', 'il', 'y', 'a', 'environ', '4', 'semaines', '.', 'La', 'première', 'ampoule', 'est', 'morte', 'il', 'y', 'a', 'environ', '2', 'semaines', ',', 'la', 'deuxième', 'ampoule', 'est', 'morte', 'ce', 'week-end', ',', 'ce', 'qui', 'lui', 'donne', 'une', 'durée', 'de', 'vie', \"d'environ\", 'un', 'mois', '.', 'Ceux-ci', 'sont', 'vendus', 'par', '\"', '\"', 'qui', 'que', 'ce', 'soit', '\"', '\"', ',', 'il', 'change', 'constamment', ',', 'les', 'noms', 'ne', 'cessent', 'de', 'changer', ',', 'mais', 'ils', 'sont', 'tous', 'identiques', ',', 'je', 'reçois', 'en', 'général', 'une', 'utilisation', 'estivale', 'complète', 'sur', \"l'un\", \"d'entre\", 'eux', 'et', 'les', 'présente', ',', 'il', 'ne', 'reste', 'plus', 'que', '2', 'mois', ',', 'cela', 'ne', 'fonctionne', 'pas', 'pour', 'moi', 'plus', ',', 'va', 'devoir', 'intensifier', 'et', 'acheter', 'un', 'vrai', '.', 'La', 'valeur', \"n'est\", 'pas', 'là', '.', 'Quand', 'ils', 'fonctionnent', ',', 'ils', 'fonctionnent', 'bien', ',', 'mais', 'si', 'les', 'ampoules', 'sont', 'cassées', ',', 'ouais', 'et', 'je', 'ne', 'parierai', 'pas', 'que', 'les', 'tripes', 'vont', 'survivre', 'grâce', 'à', 'une', 'autre', 'paire', \"d'ampoules\", '..', 'dommage', ',', 'ils', 'ont', 'mis', 'au', 'point', 'cette', 'chose', 'au-delà', 'de', \"l'idée\", \"d'en\", 'acheter', 'une', 'autre', '..', 'BTW', ',', 'environnement', 'de', 'service', 'pour', 'cela', 'était', 'mon', 'bureau', 'climatisé', ',', 'juste', 'pour', 'tuer', 'les', 'mouches', 'qui', 'le', 'rendent', 'dans', 'le', 'bureau', '..', \"c'est\", 'aussi', 'sur', 'une', 'distribution', 'de', \"l'alimentation\", 'à', 'tension', 'contrôlée', 'pour', 'le', 'matériel', 'informatique', 'afin', \"qu'il\", 'ne', 'soit', 'pas', 'exposé', 'aux', 'fluctuations', 'de', 'tension', ',', 'aux', 'conditions', 'météorologiques', ',', 'ou', 'même', 'beaucoup', \"d'une\", 'charge', '...', 'ordure', '!']\n",
      "233\n"
     ]
    }
   ],
   "source": [
    "tokenizer = TweetTokenizer()\n",
    "tokens= tokenizer.tokenize(review)\n",
    "print(tokens)\n",
    "print(len(tokens))"
   ]
  },
  {
   "cell_type": "code",
   "execution_count": 46,
   "id": "bc828cf8-bdae-4495-96ae-6b5486d9bae1",
   "metadata": {
    "tags": []
   },
   "outputs": [
    {
     "name": "stdout",
     "output_type": "stream",
     "text": [
      "80902\n"
     ]
    }
   ],
   "source": [
    "vocab = set()\n",
    "tokenizer = TweetTokenizer()\n",
    "\n",
    "for _, rev in df_fr['review_body'].items():\n",
    "    vocab.update(tokenizer.tokenize(rev))\n",
    "    \n",
    "print(len(vocab))"
   ]
  },
  {
   "cell_type": "code",
   "execution_count": 50,
   "id": "10604cdb-06eb-4783-8145-a8c91b4b9803",
   "metadata": {
    "tags": []
   },
   "outputs": [
    {
     "name": "stderr",
     "output_type": "stream",
     "text": [
      "[nltk_data] Downloading package stopwords to\n",
      "[nltk_data]     C:\\Users\\fabri\\AppData\\Roaming\\nltk_data...\n",
      "[nltk_data]   Unzipping corpora\\stopwords.zip.\n"
     ]
    },
    {
     "data": {
      "text/plain": [
       "True"
      ]
     },
     "execution_count": 50,
     "metadata": {},
     "output_type": "execute_result"
    }
   ],
   "source": [
    "import nltk\n",
    "nltk.download('stopwords')"
   ]
  },
  {
   "cell_type": "code",
   "execution_count": 52,
   "id": "4d72425f-b8dd-4396-82b5-24b6aa3b6732",
   "metadata": {
    "tags": []
   },
   "outputs": [
    {
     "name": "stdout",
     "output_type": "stream",
     "text": [
      "80696\n"
     ]
    }
   ],
   "source": [
    "from nltk.corpus import stopwords\n",
    "\n",
    "vocab = vocab - set(stopwords.words('french'))\n",
    "vocab = vocab - set(stopwords.words('english'))\n",
    "\n",
    "print(len(vocab))"
   ]
  }
 ],
 "metadata": {
  "kernelspec": {
   "display_name": "Python 3 (ipykernel)",
   "language": "python",
   "name": "python3"
  },
  "language_info": {
   "codemirror_mode": {
    "name": "ipython",
    "version": 3
   },
   "file_extension": ".py",
   "mimetype": "text/x-python",
   "name": "python",
   "nbconvert_exporter": "python",
   "pygments_lexer": "ipython3",
   "version": "3.11.7"
  }
 },
 "nbformat": 4,
 "nbformat_minor": 5
}
